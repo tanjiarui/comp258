{
  "nbformat": 4,
  "nbformat_minor": 0,
  "metadata": {
    "colab": {
      "name": "Untitled0.ipynb",
      "provenance": []
    },
    "kernelspec": {
      "display_name": "Python 3",
      "name": "python3"
    },
    "language_info": {
      "name": "python"
    }
  },
  "cells": [
    {
      "cell_type": "code",
      "metadata": {
        "id": "oJX3ezb-ZS9j"
      },
      "source": [
        "import tensorflow as tf\n",
        "from keras.datasets import cifar10\n",
        "from keras import regularizers\n",
        "from tensorflow.keras.optimizers import Adamax\n",
        "from keras.callbacks import EarlyStopping, TensorBoard\n",
        "from keras.wrappers.scikit_learn import KerasClassifier\n",
        "from sklearn.model_selection import GridSearchCV"
      ],
      "execution_count": 1,
      "outputs": []
    },
    {
      "cell_type": "code",
      "metadata": {
        "id": "FrtJpk_N2_f4"
      },
      "source": [
        "(x_train, y_train), (x_test, y_test) = cifar10.load_data()\n",
        "# one hot encoding\n",
        "y_train = tf.keras.utils.to_categorical(y_train, 10)\n",
        "y_test = tf.keras.utils.to_categorical(y_test, 10)\n",
        "x_train, x_test = x_train.astype('float32'), x_test.astype('float32')\n",
        "x_train /= 255\n",
        "x_test /= 255"
      ],
      "execution_count": null,
      "outputs": []
    },
    {
      "cell_type": "markdown",
      "metadata": {
        "id": "WCttdJ3S3Ejg"
      },
      "source": [
        "the process of tuning model structure is omitted. this is the final structure."
      ]
    },
    {
      "cell_type": "code",
      "metadata": {
        "id": "LbUG0W_O3B_r"
      },
      "source": [
        "def build_model(activation='relu', optimizer=Adamax(decay=.001/100)):\n",
        "\tmodel = tf.keras.models.Sequential()\n",
        "\tmodel.add(tf.keras.layers.BatchNormalization())\n",
        "\tmodel.add(tf.keras.layers.Flatten(input_shape=[32, 32, 3]))\n",
        "\tmodel.add(tf.keras.layers.Dense(1000, activation=activation, kernel_regularizer=regularizers.l2()))\n",
        "\tmodel.add(tf.keras.layers.Dense(400, activation=activation, kernel_regularizer=regularizers.l2()))\n",
        "\tmodel.add(tf.keras.layers.Dense(300, activation=activation, kernel_regularizer=regularizers.l2()))\n",
        "\tmodel.add(tf.keras.layers.Dense(200, activation=activation, kernel_regularizer=regularizers.l2()))\n",
        "\tmodel.add(tf.keras.layers.Dense(100, activation=activation, kernel_regularizer=regularizers.l2()))\n",
        "\tmodel.add(tf.keras.layers.Dense(50, activation=activation, kernel_regularizer=regularizers.l2()))\n",
        "\tmodel.add(tf.keras.layers.Dense(10, activation='softmax'))\n",
        "\tmodel.compile(loss='categorical_crossentropy', optimizer=optimizer, metrics=['accuracy'])\n",
        "\treturn model"
      ],
      "execution_count": null,
      "outputs": []
    },
    {
      "cell_type": "markdown",
      "metadata": {
        "id": "zmrCoUav3csa"
      },
      "source": [
        "this step is highly time consumming. the result was in the original py file. so I left the result as the comment."
      ]
    },
    {
      "cell_type": "code",
      "metadata": {
        "id": "7P7brljx3Y0a"
      },
      "source": [
        "# tuning hyper parameters\n",
        "model = KerasClassifier(build_model)\n",
        "early_stopping = EarlyStopping(monitor='val_loss', patience=10, verbose=2)\n",
        "param_grid = {'activation': ['relu', 'tanh', 'linear'], 'optimizer': ['Adam', 'Adamax', 'Nadam']}\n",
        "grid_search = GridSearchCV(model, param_grid, n_jobs=2)\n",
        "grid_search.fit(x_train, y_train, validation_data=(x_test, y_test), epochs=100, callbacks=[early_stopping])\n",
        "print('best parameter:')\n",
        "print(grid_search.best_params_)  # {'activation': 'relu', 'optimizer': 'Adamax'}\n",
        "print('best score:')\n",
        "print(grid_search.best_score_)  # 0.49444000124931337"
      ],
      "execution_count": null,
      "outputs": []
    },
    {
      "cell_type": "code",
      "metadata": {
        "id": "hwJj9fme38A3"
      },
      "source": [
        "# converge the loss\n",
        "model = tf.keras.models.load_model('cifar10')\n",
        "early_stopping = EarlyStopping(monitor='val_loss', patience=10, verbose=2)\n",
        "tensorboard = TensorBoard()\n",
        "model.fit(x_train, y_train, validation_data=(x_test, y_test), epochs=100, callbacks=[early_stopping, tensorboard])\n",
        "model.save('cifar10')"
      ],
      "execution_count": null,
      "outputs": []
    }
  ]
}