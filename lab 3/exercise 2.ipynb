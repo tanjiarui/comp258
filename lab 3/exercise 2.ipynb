{
  "nbformat": 4,
  "nbformat_minor": 0,
  "metadata": {
    "colab": {
      "name": "exercise 2.ipynb",
      "provenance": []
    },
    "kernelspec": {
      "name": "python3",
      "display_name": "Python 3"
    },
    "language_info": {
      "name": "python"
    }
  },
  "cells": [
    {
      "cell_type": "code",
      "metadata": {
        "id": "cF-6-ni7chcW"
      },
      "source": [
        "from tensorflow.keras.preprocessing.image import ImageDataGenerator\n",
        "from tensorflow.keras.callbacks import EarlyStopping, TensorBoard\n",
        "from tensorflow.keras.applications import ResNet50V2"
      ],
      "execution_count": null,
      "outputs": []
    },
    {
      "cell_type": "code",
      "metadata": {
        "id": "FlaUGDcMcnqB"
      },
      "source": [
        "num_class = 2\n",
        "epoch = 6\n",
        "image_width = 100\n",
        "image_height = 100\n",
        "batch_size = 64\n",
        "input_shape = (image_width, image_height, 3)\n",
        "early_stopping = EarlyStopping(monitor='val_loss', patience=2)\n",
        "tensorboard = TensorBoard()"
      ],
      "execution_count": null,
      "outputs": []
    },
    {
      "cell_type": "code",
      "metadata": {
        "id": "cTsvfHRocqR8"
      },
      "source": [
        "# load data\n",
        "data = ImageDataGenerator(rescale=1./255)\n",
        "train_generator = data.flow_from_directory('dataset/train', target_size=(image_width, image_height), shuffle=True, batch_size=batch_size)\n",
        "validation_generator = data.flow_from_directory('dataset/validation', target_size=(image_width, image_height), shuffle=True, batch_size=batch_size)"
      ],
      "execution_count": null,
      "outputs": []
    },
    {
      "cell_type": "code",
      "metadata": {
        "id": "dV09J6kEctNz"
      },
      "source": [
        "# modeling\n",
        "model = ResNet50V2(weights=None, input_shape=input_shape, classes=num_class, classifier_activation='sigmoid')\n",
        "model.compile(loss='binary_crossentropy', optimizer='Adamax', metrics=['accuracy'])\n",
        "model.fit(train_generator, validation_data=validation_generator, epochs=epoch, callbacks=[early_stopping, tensorboard], workers=4)\n",
        "model.save('model')"
      ],
      "execution_count": null,
      "outputs": []
    }
  ]
}